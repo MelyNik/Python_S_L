{
 "cells": [
  {
   "cell_type": "code",
   "execution_count": 1,
   "metadata": {},
   "outputs": [
    {
     "data": {
      "text/latex": [
       "$\\displaystyle \\frac{x^{2} + 3}{3 x + 3}$"
      ],
      "text/plain": [
       "(x**2 + 3)/(3*x + 3)"
      ]
     },
     "execution_count": 1,
     "metadata": {},
     "output_type": "execute_result"
    }
   ],
   "source": [
    "from sympy import *\n",
    "from sympy.plotting import plot \n",
    "\n",
    "x = Symbol('x')\n",
    "f = (x**2 + 3) / (3 * (x + 1))\n",
    "f"
   ]
  },
  {
   "cell_type": "code",
   "execution_count": 2,
   "metadata": {},
   "outputs": [
    {
     "name": "stdout",
     "output_type": "stream",
     "text": [
      "[-oo, oo]\n",
      "[-oo, -3.00, 1.00, oo]\n",
      "Убывает:\n",
      "-3.00, 1.00\n",
      "Возвростает:\n",
      "-oo, -3.00\n",
      "1.00, oo\n"
     ]
    }
   ],
   "source": [
    "# 1. Найти интервал, на которых функция возрастает.\n",
    "# 2. Найти интервал, на которых функция убывает.\n",
    "\n",
    "lst = [-oo, oo]\n",
    "print(lst)\n",
    "lst[1:1] = solveset(diff(f), x, Reals).evalf(3)\n",
    "print(lst)\n",
    "\n",
    "inc = []\n",
    "red = []\n",
    "\n",
    "for i in range(1, len(lst)):\n",
    "    temp = is_increasing(f, Interval.open(lst[i-1], lst[i]))\n",
    "    if temp:\n",
    "        inc.append(f\"{lst[i-1]}, {lst[i]}\")\n",
    "    else:\n",
    "        red.append(f\"{lst[i-1]}, {lst[i]}\")\n",
    "\n",
    "print('Убывает:', *red, sep='\\n')\n",
    "print('Возвростает:', *inc, sep='\\n')"
   ]
  },
  {
   "cell_type": "code",
   "execution_count": 3,
   "metadata": {},
   "outputs": [
    {
     "data": {
      "text/latex": [
       "$\\displaystyle \\emptyset$"
      ],
      "text/plain": [
       "EmptySet"
      ]
     },
     "execution_count": 3,
     "metadata": {},
     "output_type": "execute_result"
    }
   ],
   "source": [
    "# Определяем корни. Нули функции.\n",
    "solveset(f, x, Reals).evalf(3)"
   ]
  },
  {
   "cell_type": "code",
   "execution_count": 4,
   "metadata": {},
   "outputs": [
    {
     "data": {
      "image/png": "[encoded data removed]",
      "text/plain": [
       "<Figure size 640x480 with 1 Axes>"
      ]
     },
     "metadata": {},
     "output_type": "display_data"
    }
   ],
   "source": [
    "first_f = plot(f, (x, -6, -1.1), show=False)\n",
    "next_f = plot(f, (x, -0.9, 5), show=False)\n",
    "first_f.append(next_f[0])\n",
    "first_f.show()"
   ]
  },
  {
   "cell_type": "code",
   "execution_count": 5,
   "metadata": {},
   "outputs": [
    {
     "name": "stdout",
     "output_type": "stream",
     "text": [
      "Максимум: -3.00, -2.00\n",
      "Минимум: 1.00, 0.667\n"
     ]
    }
   ],
   "source": [
    "# Вычислить вершину.(экстремумы)\n",
    "from random import *\n",
    "lst = sorted(solveset(diff(f), x, Reals).evalf(3))\n",
    "lst.insert(0, lst[0] - 1)\n",
    "first_f = diff(f)\n",
    "\n",
    "temp = []\n",
    "\n",
    "for i, val in enumerate(lst):\n",
    "    temp.append(first_f.subs(x, uniform(val, lst[i]+1)))\n",
    "    if i != 0:\n",
    "        if temp[i-1] < 0 < temp[i]:\n",
    "            print(f'Минимум: {val}, {f.subs(x, val).evalf(3)}')\n",
    "        elif temp[i-1] > 0 > temp[i]:\n",
    "            print(f'Максимум: {val}, {f.subs(x, val).evalf(3)}')"
   ]
  },
  {
   "cell_type": "code",
   "execution_count": 6,
   "metadata": {},
   "outputs": [
    {
     "name": "stdout",
     "output_type": "stream",
     "text": [
      "f > 0:"
     ]
    },
    {
     "data": {
      "text/latex": [
       "$\\displaystyle \\left(-1.0, \\infty\\right)$"
      ],
      "text/plain": [
       "Interval.open(-1.0, oo)"
      ]
     },
     "execution_count": 6,
     "metadata": {},
     "output_type": "execute_result"
    }
   ],
   "source": [
    "# Определить промежутки, на котором f > 0. (Знакопостоянства)\n",
    "\n",
    "print(\"f > 0:\", end='')\n",
    "solveset(f > 0, x, Reals).evalf(2)"
   ]
  },
  {
   "cell_type": "code",
   "execution_count": 7,
   "metadata": {},
   "outputs": [
    {
     "name": "stdout",
     "output_type": "stream",
     "text": [
      "f < 0:"
     ]
    },
    {
     "data": {
      "text/latex": [
       "$\\displaystyle \\left(-\\infty, -1.0\\right)$"
      ],
      "text/plain": [
       "Interval.open(-oo, -1.0)"
      ]
     },
     "execution_count": 7,
     "metadata": {},
     "output_type": "execute_result"
    }
   ],
   "source": [
    "# Определить промежутки, на котором f < 0. (Знакопостоянства)\n",
    "print(\"f < 0:\", end='')\n",
    "solveset(f < 0, x, Reals).evalf(2)"
   ]
  }
 ],
 "metadata": {
  "kernelspec": {
   "display_name": "Python 3.8.8 ('.folder': venv)",
   "language": "python",
   "name": "python3"
  },
  "language_info": {
   "codemirror_mode": {
    "name": "ipython",
    "version": 3
   },
   "file_extension": ".py",
   "mimetype": "text/x-python",
   "name": "python",
   "nbconvert_exporter": "python",
   "pygments_lexer": "ipython3",
   "version": "3.8.8"
  },
  "orig_nbformat": 4,
  "vscode": {
   "interpreter": {
    "hash": "47580393250ff7e633118beb7292adadb1abd1b213db95aeca49f582bcb631cf"
   }
  }
 },
 "nbformat": 4,
 "nbformat_minor": 2
}
