{
 "cells": [
  {
   "cell_type": "code",
   "execution_count": 2,
   "metadata": {},
   "outputs": [
    {
     "data": {
      "text/latex": [
       "$\\displaystyle 2 x^{3} + 2 x^{2} - 18 x - 18$"
      ],
      "text/plain": [
       "2*x**3 + 2*x**2 - 18*x - 18"
      ]
     },
     "execution_count": 2,
     "metadata": {},
     "output_type": "execute_result"
    }
   ],
   "source": [
    "from sympy import *\n",
    "from sympy.plotting import plot \n",
    "\n",
    "x = Symbol('x')\n",
    "f = 2 * x**3 + 2 * x**2 - 18 * x - 18\n",
    "f"
   ]
  },
  {
   "cell_type": "code",
   "execution_count": 3,
   "metadata": {},
   "outputs": [
    {
     "name": "stdout",
     "output_type": "stream",
     "text": [
      "[-oo, oo]\n",
      "[-oo, -2.10, 1.43, oo]\n",
      "Убывает:\n",
      "-2.10, 1.43\n",
      "1.43, oo\n",
      "Возвростает:\n",
      "-oo, -2.10\n"
     ]
    }
   ],
   "source": [
    "# 1. Найти интервал, на которых функция возрастает.\n",
    "# 2. Найти интервал, на которых функция убывает.\n",
    "\n",
    "lst =[-oo, oo]\n",
    "print(lst)\n",
    "lst[1:1] = solveset(diff(f), x, Reals).evalf(3)\n",
    "print(lst)\n",
    "\n",
    "inc = []\n",
    "red = []\n",
    "\n",
    "for i in range(1, len(lst)):\n",
    "    temp = is_increasing(f, Interval.open(lst[i-1], lst[i]))\n",
    "    if temp:\n",
    "        inc.append(f\"{lst[i-1]}, {lst[i]}\")\n",
    "    else:\n",
    "        red.append(f\"{lst[i-1]}, {lst[i]}\")\n",
    "\n",
    "print('Убывает:', *red, sep='\\n')\n",
    "print('Возвростает:', *inc, sep='\\n')\n"
   ]
  },
  {
   "cell_type": "code",
   "execution_count": 4,
   "metadata": {},
   "outputs": [
    {
     "data": {
      "text/latex": [
       "$\\displaystyle \\left\\{-3.0, -1.0, 3.0\\right\\}$"
      ],
      "text/plain": [
       "{-3.0, -1.0, 3.0}"
      ]
     },
     "execution_count": 4,
     "metadata": {},
     "output_type": "execute_result"
    }
   ],
   "source": [
    "# Определяем корни. Нули функции.\n",
    "solveset(f, x, Reals).evalf(3) "
   ]
  },
  {
   "cell_type": "code",
   "execution_count": 6,
   "metadata": {},
   "outputs": [
    {
     "data": {
      "image/png": "[encoded data removed]",
      "text/plain": [
       "<Figure size 640x480 with 1 Axes>"
      ]
     },
     "metadata": {},
     "output_type": "display_data"
    },
    {
     "data": {
      "text/plain": [
       "<sympy.plotting.plot.Plot at 0x11297820>"
      ]
     },
     "execution_count": 6,
     "metadata": {},
     "output_type": "execute_result"
    }
   ],
   "source": [
    "# Строим график\n",
    "plot(f, (x, -5, 5), legend=True)"
   ]
  },
  {
   "cell_type": "code",
   "execution_count": 6,
   "metadata": {},
   "outputs": [
    {
     "name": "stdout",
     "output_type": "stream",
     "text": [
      "Максимум: -2.10, 10.1\n",
      "Минимум: 1.43, -33.8\n"
     ]
    }
   ],
   "source": [
    "# Вычислить вершину.(экстремумы)\n",
    "from random import *\n",
    "lst = sorted(solveset(diff(f), x, Reals).evalf(3))\n",
    "lst.insert(0, lst[0] - 1)\n",
    "first_f = diff(f)\n",
    "\n",
    "temp = []\n",
    "\n",
    "for i, val in enumerate(lst):\n",
    "    temp.append(first_f.subs(x, uniform(val, lst[i]+1)))\n",
    "    if i != 0:\n",
    "        if temp[i-1] < 0 < temp[i]:\n",
    "            print(f'Минимум: {val}, {f.subs(x, val).evalf(3)}')\n",
    "        elif temp[i-1] > 0 > temp[i]:\n",
    "            print(f'Максимум: {val}, {f.subs(x, val).evalf(3)}')"
   ]
  },
  {
   "cell_type": "code",
   "execution_count": 7,
   "metadata": {},
   "outputs": [
    {
     "name": "stdout",
     "output_type": "stream",
     "text": [
      "f > 0:"
     ]
    },
    {
     "data": {
      "text/latex": [
       "$\\displaystyle \\left(-3.0, -1.0\\right) \\cup \\left(3.0, \\infty\\right)$"
      ],
      "text/plain": [
       "Union(Interval.open(-3.0, -1.0), Interval.open(3.0, oo))"
      ]
     },
     "execution_count": 7,
     "metadata": {},
     "output_type": "execute_result"
    }
   ],
   "source": [
    "# Определить промежутки, на котором f > 0. (Знакопостоянства)\n",
    "\n",
    "print(\"f > 0:\",  end='')\n",
    "solveset(f > 0, x, Reals).evalf(2)"
   ]
  },
  {
   "cell_type": "code",
   "execution_count": 8,
   "metadata": {},
   "outputs": [
    {
     "name": "stdout",
     "output_type": "stream",
     "text": [
      "f < 0:"
     ]
    },
    {
     "data": {
      "text/latex": [
       "$\\displaystyle \\left(-\\infty, -3.0\\right) \\cup \\left(-1.0, 3.0\\right)$"
      ],
      "text/plain": [
       "Union(Interval.open(-oo, -3.0), Interval.open(-1.0, 3.0))"
      ]
     },
     "execution_count": 8,
     "metadata": {},
     "output_type": "execute_result"
    }
   ],
   "source": [
    "# Определить промежутки, на котором f < 0. (Знакопостоянства)\n",
    "print(\"f < 0:\", end='')\n",
    "solveset(f < 0, x, Reals).evalf(2)"
   ]
  }
 ],
 "metadata": {
  "kernelspec": {
   "display_name": "Python 3.8.8 ('.folder': venv)",
   "language": "python",
   "name": "python3"
  },
  "language_info": {
   "codemirror_mode": {
    "name": "ipython",
    "version": 3
   },
   "file_extension": ".py",
   "mimetype": "text/x-python",
   "name": "python",
   "nbconvert_exporter": "python",
   "pygments_lexer": "ipython3",
   "version": "3.8.8"
  },
  "orig_nbformat": 4,
  "vscode": {
   "interpreter": {
    "hash": "47580393250ff7e633118beb7292adadb1abd1b213db95aeca49f582bcb631cf"
   }
  }
 },
 "nbformat": 4,
 "nbformat_minor": 2
}
